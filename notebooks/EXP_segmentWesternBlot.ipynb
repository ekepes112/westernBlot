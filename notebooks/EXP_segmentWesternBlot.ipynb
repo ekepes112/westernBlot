{
 "cells": [
  {
   "cell_type": "code",
   "execution_count": null,
   "metadata": {},
   "outputs": [],
   "source": [
    "import tkinter as tk\n",
    "import numpy as np\n",
    "import matplotlib.pyplot as plt\n",
    "import matplotlib.patches as mpatches\n",
    "\n",
    "from PIL import Image, ImageTk, ImageColor\n",
    "from skimage import filters, segmentation, io, img_as_float, color\n",
    "from skimage.measure import label, regionprops\n",
    "from skimage.filters import sobel, apply_hysteresis_threshold"
   ]
  },
  {
   "cell_type": "code",
   "execution_count": null,
   "metadata": {},
   "outputs": [],
   "source": [
    "window = tk.Tk()\n",
    "window.title(\"TIF Image Viewer\")\n",
    "\n",
    "label_raw = tk.Label()\n",
    "label_raw.grid(row=1,column=0)\n",
    "label_label = tk.Label()\n",
    "label_label.grid(row=1,column=1)\n",
    "label_subimage = tk.Label()\n",
    "label_subimage.grid(row=1,column=2)\n",
    "# Load the image\n",
    "# file_path = \"../data/Marked 2nd.tif\"\n",
    "file_path = \"../data/A1p150_R1,R2_induction_both.tif\""
   ]
  },
  {
   "cell_type": "code",
   "execution_count": null,
   "metadata": {},
   "outputs": [],
   "source": [
    "image_raw = Image.fromarray(\n",
    "    io.imread(file_path)\n",
    ")\n",
    "image_raw"
   ]
  },
  {
   "cell_type": "code",
   "execution_count": null,
   "metadata": {},
   "outputs": [],
   "source": [
    "edges = sobel(sub_images[1][:,:,:3])\n",
    "edges /= np.max(edges)\n",
    "\n",
    "low = 1e-5\n",
    "high = 1e-2\n",
    "\n",
    "lowt = (edges > low).astype(int)\n",
    "hight = (edges > high).astype(int)\n",
    "hyst = apply_hysteresis_threshold(edges, low, high)\n",
    "\n",
    "fig, ax = plt.subplots(nrows=2, ncols=2)\n",
    "\n",
    "ax[0, 0].imshow(sub_images[1], cmap='gray')\n",
    "ax[0, 0].set_title('Original image')\n",
    "\n",
    "ax[0, 1].imshow(edges, cmap='magma')\n",
    "ax[0, 1].set_title('Sobel edges')\n",
    "\n",
    "ax[1, 0].imshow(lowt, cmap='magma')\n",
    "ax[1, 0].set_title('Low threshold')\n",
    "\n",
    "ax[1, 1].imshow(hight + hyst, cmap='magma')\n",
    "ax[1, 1].set_title('Hysteresis threshold')\n",
    "\n",
    "for a in ax.ravel():\n",
    "    a.axis('off')\n",
    "\n",
    "plt.tight_layout()\n",
    "\n",
    "plt.show()"
   ]
  },
  {
   "cell_type": "code",
   "execution_count": null,
   "metadata": {},
   "outputs": [],
   "source": [
    "plt.imshow(edges[:,:,0] < .1)"
   ]
  },
  {
   "cell_type": "code",
   "execution_count": null,
   "metadata": {},
   "outputs": [],
   "source": [
    "plt.imshow(edges)\n",
    "grayscale_image = color.rgb2gray(edges)\n",
    "# threshold_value = np.median(edges)\n",
    "threshold_value = filters.threshold_otsu(edges)\n",
    "binary_image = grayscale_image > threshold_value\n",
    "plt.imshow(binary_image)\n",
    "plt.show()"
   ]
  },
  {
   "cell_type": "code",
   "execution_count": null,
   "metadata": {},
   "outputs": [],
   "source": [
    "if file_path:\n",
    "    image_raw = Image.fromarray(\n",
    "        io.imread(file_path)\n",
    "    )\n",
    "    # image_raw = image_raw.resize((\n",
    "    #     image_raw.size[0] //2,\n",
    "    #     image_raw.size[1] //2\n",
    "    # ))\n",
    "\n",
    "    photo_raw = ImageTk.PhotoImage(image_raw)\n",
    "    label_raw.configure(image=photo_raw)\n",
    "    label_raw.image = photo_raw"
   ]
  },
  {
   "cell_type": "code",
   "execution_count": null,
   "metadata": {},
   "outputs": [],
   "source": [
    "image_raw = img_as_float(image_raw)\n",
    "\n",
    "alpha_label_image = label(image_raw[:, :, 3])\n",
    "plt.imshow(alpha_label_image)"
   ]
  },
  {
   "cell_type": "code",
   "execution_count": null,
   "metadata": {},
   "outputs": [],
   "source": [
    "sub_images = []\n",
    "\n",
    "for region in regionprops(alpha_label_image):\n",
    "    if region.area >= 25000:\n",
    "        minr, minc, maxr, maxc = region.bbox\n",
    "        sub_image = image_raw[minr:maxr,minc:maxc]\n",
    "        sub_images.append(sub_image)\n",
    "\n",
    "        plt.imshow(sub_image)\n",
    "        plt.show()\n",
    "\n",
    "        # grayscale_image = sub_image[:, :, 1]\n",
    "        grayscale_image = color.rgb2gray(\n",
    "            sub_image[:, :, :3]\n",
    "        )\n",
    "        plt.imshow(grayscale_image)\n",
    "        plt.show()\n",
    "        threshold_value = np.median(grayscale_image)\n",
    "        # threshold_value = filters.threshold_otsu(grayscale_image)\n",
    "        binary_image = grayscale_image > threshold_value\n",
    "        plt.imshow(binary_image)\n",
    "        plt.show()\n",
    "        label_image = label(binary_image)\n",
    "        \n",
    "        # for sub_region in regionprops(label_image):\n",
    "        #     sminr, sminc, smaxr, smaxc = sub_region.bbox\n",
    "        #     sub_region_image = sub_image[sminr:smaxr,sminc:smaxc]\n",
    "        "
   ]
  },
  {
   "cell_type": "code",
   "execution_count": null,
   "metadata": {},
   "outputs": [],
   "source": [
    "grayscale_image = color.rgb2gray(\n",
    "    img_as_float(image_raw)[:,:,:3]\n",
    ")\n",
    "threshold_value = filters.threshold_otsu(grayscale_image)\n",
    "binary_image = grayscale_image > threshold_value\n",
    "label_image = label(binary_image)\n",
    "regions = iter([\n",
    "    region\n",
    "    for region\n",
    "    in regionprops(label_image)\n",
    "    if region.area >= 100\n",
    "])\n",
    "\n",
    "label_image = Image.fromarray(\n",
    "    label_image.astype('uint8'),\n",
    "    mode='P'\n",
    ")\n",
    "\n",
    "photo_label = ImageTk.PhotoImage(label_image)\n",
    "\n",
    "label_label.configure(image=photo_label)\n",
    "label_label.image = photo_label"
   ]
  },
  {
   "cell_type": "code",
   "execution_count": null,
   "metadata": {},
   "outputs": [],
   "source": [
    "if label_image is not None:\n",
    "    color_map = ImageColor.colormap\n",
    "    color_map['gray'] = (128, 128, 128)\n",
    "    color_map['red'] = (255, 0, 0)\n",
    "    color_map['green'] = (0, 255, 0)\n",
    "    color_map['blue'] = (0, 0, 255)\n",
    "\n",
    "    color_image = label_image\n",
    "    color_image.putpalette(\n",
    "        sum(\n",
    "            [\n",
    "                list(color_map[name])\n",
    "                for name\n",
    "                in ('gray', 'red', 'green', 'blue')\n",
    "            ],\n",
    "            []\n",
    "        )\n",
    "    )\n",
    "\n",
    "    photo_label = ImageTk.PhotoImage(color_image)\n",
    "    label_label.configure(image=photo_label)\n",
    "    label_label.image = photo_label"
   ]
  },
  {
   "cell_type": "code",
   "execution_count": null,
   "metadata": {},
   "outputs": [],
   "source": [
    "color_image"
   ]
  }
 ],
 "metadata": {
  "kernelspec": {
   "display_name": "westernBlot",
   "language": "python",
   "name": "westernblot"
  },
  "language_info": {
   "codemirror_mode": {
    "name": "ipython",
    "version": 3
   },
   "file_extension": ".py",
   "mimetype": "text/x-python",
   "name": "python",
   "nbconvert_exporter": "python",
   "pygments_lexer": "ipython3",
   "version": "3.10.9"
  }
 },
 "nbformat": 4,
 "nbformat_minor": 2
}
