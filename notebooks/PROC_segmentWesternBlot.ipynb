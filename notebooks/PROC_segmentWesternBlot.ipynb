{
 "cells": [
  {
   "cell_type": "markdown",
   "metadata": {},
   "source": [
    "# Init"
   ]
  },
  {
   "cell_type": "code",
   "execution_count": null,
   "metadata": {},
   "outputs": [],
   "source": [
    "import tkinter as tk\n",
    "import numpy as np\n",
    "import matplotlib.pyplot as plt\n",
    "import matplotlib.patches as mpatches\n",
    "\n",
    "from PIL import Image, ImageTk, ImageColor\n",
    "from skimage import filters, segmentation, io, img_as_float, color\n",
    "from skimage.measure import label, regionprops\n",
    "from skimage.filters import sobel, apply_hysteresis_threshold\n"
   ]
  },
  {
   "cell_type": "markdown",
   "metadata": {},
   "source": [
    "# Data"
   ]
  },
  {
   "cell_type": "code",
   "execution_count": null,
   "metadata": {},
   "outputs": [],
   "source": [
    "# file_path = \"../data/Marked 2nd.tif\"\n",
    "file_path = \"../data/A1p150_R1,R2_induction_both.tif\"\n",
    "image_raw = Image.fromarray(\n",
    "    io.imread(file_path)\n",
    ")\n",
    "image_raw"
   ]
  },
  {
   "cell_type": "markdown",
   "metadata": {},
   "source": [
    "# Segmentation"
   ]
  },
  {
   "cell_type": "markdown",
   "metadata": {},
   "source": [
    "## Individual gels - based on alpha"
   ]
  },
  {
   "cell_type": "code",
   "execution_count": null,
   "metadata": {},
   "outputs": [],
   "source": [
    "image_raw = img_as_float(image_raw)\n",
    "alpha_label_image = label(image_raw[:, :, 3])\n",
    "plt.imshow(alpha_label_image)"
   ]
  },
  {
   "cell_type": "code",
   "execution_count": null,
   "metadata": {},
   "outputs": [],
   "source": [
    "import logging\n",
    "\n",
    "logger = logging.getLogger(__name__)\n",
    "logger.setLevel(logging.DEBUG)\n",
    "\n",
    "# create console handler and set level to debug\n",
    "console_handler = logging.StreamHandler()\n",
    "console_handler.setLevel(logging.DEBUG)\n",
    "\n",
    "# create formatter\n",
    "formatter = logging.Formatter('%(asctime)s - %(name)s - %(levelname)s - %(message)s')\n",
    "\n",
    "# add formatter to console handler\n",
    "console_handler.setFormatter(formatter)\n",
    "\n",
    "# add console handler to logger\n",
    "logger.addHandler(console_handler)"
   ]
  },
  {
   "cell_type": "code",
   "execution_count": null,
   "metadata": {},
   "outputs": [],
   "source": [
    "color_map = ImageColor.colormap\n",
    "color_map['gray'] = (128, 128, 128)\n",
    "color_map['red'] = (255, 0, 0)\n",
    "color_map['green'] = (0, 255, 0)\n",
    "color_map['blue'] = (0, 0, 255)\n",
    "\n",
    "gel_images = []\n",
    "\n",
    "for region in regionprops(alpha_label_image):    \n",
    "    if region.area >= 25000:\n",
    "        fig,ax = plt.subplots(\n",
    "            nrows=4\n",
    "        )\n",
    "\n",
    "        gel_minr, gel_minc, gel_maxr, gel_maxc = region.bbox\n",
    "        gel_image = image_raw[gel_minr:gel_maxr,gel_minc:gel_maxc]\n",
    "        gel_images.append(gel_image)\n",
    "\n",
    "        ax[0].imshow(gel_image)\n",
    "\n",
    "        # grayscale_image = gel_image[:, :, 1]\n",
    "        grayscale_image = color.rgb2gray(\n",
    "            gel_image[:, :, :3]\n",
    "        )\n",
    "\n",
    "        ax[1].imshow(grayscale_image)\n",
    "        threshold_value = np.median(grayscale_image) / 1.2\n",
    "        # threshold_value = filters.threshold_otsu(grayscale_image)\n",
    "        binary_image = grayscale_image > threshold_value\n",
    "        ax[2].imshow(binary_image)\n",
    "\n",
    "        label_image = label(binary_image)\n",
    "\n",
    "        color_image = Image.fromarray(\n",
    "            label_image.astype('uint8'),\n",
    "            mode='P'\n",
    "        )\n",
    "        color_image.putpalette(\n",
    "            sum(\n",
    "                [\n",
    "                    list(color_map[name])\n",
    "                    for name\n",
    "                    in ('gray', 'red', 'green', 'blue')\n",
    "                ],\n",
    "                []\n",
    "            )\n",
    "        )\n",
    "        ax[3].imshow(label_image)\n",
    "        \n",
    "        for blot_region in regionprops(label_image):\n",
    "            if blot_region.area < 100: pass\n",
    "            \n",
    "            blot_minr, blot_minc, blot_maxr, blot_maxc = blot_region.bbox\n",
    "            logger.debug(f'{region.area} VS {blot_region.area}')\n",
    "            logger.debug(f'{blot_minr}, {blot_minc}, {blot_maxr}, {blot_maxc}')\n",
    "\n",
    "            # sub_region_image = gel_image[blot_minr:blot_maxr,blot_minc:blot_maxc]\n",
    "            rect = patches.Rectangle(\n",
    "                (blot_minc, blot_minr),\n",
    "                blot_maxc-blot_minc,\n",
    "                blot_maxr-blot_minr,\n",
    "                linewidth=5,\n",
    "                edgecolor='r',\n",
    "                facecolor='none'\n",
    "            )\n",
    "            ax[2].add_patch(rect)\n",
    "\n",
    "        fig.show()        "
   ]
  },
  {
   "cell_type": "code",
   "execution_count": null,
   "metadata": {},
   "outputs": [],
   "source": [
    "import matplotlib.patches as patches"
   ]
  },
  {
   "cell_type": "code",
   "execution_count": null,
   "metadata": {},
   "outputs": [],
   "source": [
    "fig, ax = plt.subplots(nrows=1)\n",
    "ax.imshow(label_image)\n",
    "rect = patches.Rectangle(\n",
    "    (blot_minc, blot_minr),\n",
    "    blot_maxc-blot_minc,\n",
    "    blot_maxr-blot_minr,\n",
    "    linewidth=5,\n",
    "    edgecolor='r',\n",
    "    facecolor='none'\n",
    ")\n",
    "ax.add_patch(rect)\n",
    "fig.show()\n"
   ]
  },
  {
   "cell_type": "code",
   "execution_count": null,
   "metadata": {},
   "outputs": [],
   "source": [
    "\n",
    "\n",
    "plt.imshow(color_image)\n"
   ]
  }
 ],
 "metadata": {
  "kernelspec": {
   "display_name": "westernBlot",
   "language": "python",
   "name": "westernblot"
  },
  "language_info": {
   "codemirror_mode": {
    "name": "ipython",
    "version": 3
   },
   "file_extension": ".py",
   "mimetype": "text/x-python",
   "name": "python",
   "nbconvert_exporter": "python",
   "pygments_lexer": "ipython3",
   "version": "3.10.9"
  }
 },
 "nbformat": 4,
 "nbformat_minor": 2
}
